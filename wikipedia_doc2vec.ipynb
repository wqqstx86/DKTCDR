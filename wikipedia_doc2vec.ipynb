{
 "cells": [
  {
   "cell_type": "code",
   "execution_count": 2,
   "id": "32b954ef",
   "metadata": {
    "ExecuteTime": {
     "end_time": "2022-03-15T08:17:03.645321Z",
     "start_time": "2022-03-15T08:17:03.638569Z"
    }
   },
   "outputs": [],
   "source": [
    "from gensim.corpora.wikicorpus import WikiCorpus\n",
    "from gensim.models.doc2vec import Doc2Vec, TaggedDocument\n",
    "from pprint import pprint\n",
    "import multiprocessing\n",
    "from tqdm import tqdm"
   ]
  },
  {
   "cell_type": "code",
   "execution_count": 9,
   "id": "c1898a81",
   "metadata": {
    "ExecuteTime": {
     "end_time": "2022-03-15T08:19:55.333763Z",
     "start_time": "2022-03-15T08:19:55.221276Z"
    }
   },
   "outputs": [],
   "source": [
    "from tqdm import tqdm"
   ]
  },
  {
   "cell_type": "code",
   "execution_count": 25,
   "id": "3ba2e99a",
   "metadata": {
    "ExecuteTime": {
     "end_time": "2022-03-15T12:12:53.854962Z",
     "start_time": "2022-03-15T12:12:53.850464Z"
    }
   },
   "outputs": [],
   "source": [
    "import logging\n",
    "logging.basicConfig(format='%(asctime)s : %(levelname)s : %(message)s', level=logging.INFO)"
   ]
  },
  {
   "cell_type": "code",
   "execution_count": null,
   "id": "241e7e3b",
   "metadata": {
    "ExecuteTime": {
     "end_time": "2022-03-15T08:08:21.416566Z",
     "start_time": "2022-03-15T08:07:02.434762Z"
    },
    "collapsed": true
   },
   "outputs": [],
   "source": [
    "import gensim.downloader as api\n",
    "data = api.load(\"wiki-english-20171001\")"
   ]
  },
  {
   "cell_type": "code",
   "execution_count": 5,
   "id": "84631e50",
   "metadata": {
    "ExecuteTime": {
     "end_time": "2022-03-15T08:18:24.174391Z",
     "start_time": "2022-03-15T08:18:24.170489Z"
    }
   },
   "outputs": [],
   "source": [
    "wiki = WikiCorpus(\"enwiki-latest-pages-articles.xml.bz2\", dictionary={})"
   ]
  },
  {
   "cell_type": "code",
   "execution_count": 16,
   "id": "87dc5670",
   "metadata": {
    "ExecuteTime": {
     "end_time": "2022-03-15T08:28:34.429168Z",
     "start_time": "2022-03-15T08:28:34.419877Z"
    }
   },
   "outputs": [],
   "source": [
    "class TaggedWikiDocument(object):\n",
    "    def __init__(self, wiki):\n",
    "        self.wiki = wiki\n",
    "        self.wiki.metadata = True\n",
    "    def __iter__(self):\n",
    "        for content, (page_id, title) in self.wiki.get_texts():\n",
    "            yield TaggedDocument([c for c in content], [title])"
   ]
  },
  {
   "cell_type": "code",
   "execution_count": 17,
   "id": "b4707a1e",
   "metadata": {
    "ExecuteTime": {
     "end_time": "2022-03-15T08:28:35.180528Z",
     "start_time": "2022-03-15T08:28:35.176638Z"
    }
   },
   "outputs": [],
   "source": [
    "documents = TaggedWikiDocument(wiki)"
   ]
  },
  {
   "cell_type": "code",
   "execution_count": 18,
   "id": "86086df7",
   "metadata": {
    "ExecuteTime": {
     "end_time": "2022-03-15T08:44:05.798567Z",
     "start_time": "2022-03-15T08:28:36.156696Z"
    },
    "scrolled": true
   },
   "outputs": [
    {
     "data": {
      "text/plain": [
       "(365218104, 214876)"
      ]
     },
     "execution_count": 18,
     "metadata": {},
     "output_type": "execute_result"
    },
    {
     "name": "stderr",
     "output_type": "stream",
     "text": [
      "Process InputQueue-192:\n",
      "Traceback (most recent call last):\n",
      "  File \"/usr/lib/python3.6/multiprocessing/process.py\", line 258, in _bootstrap\n",
      "    self.run()\n",
      "  File \"/usr/local/lib/python3.6/dist-packages/gensim/utils.py\", line 1289, in run\n",
      "    wrapped_chunk = [list(chunk)]\n",
      "  File \"/usr/local/lib/python3.6/dist-packages/gensim/corpora/wikicorpus.py\", line 676, in <genexpr>\n",
      "    (text, title, pageid, tokenization_params)\n",
      "  File \"/usr/local/lib/python3.6/dist-packages/gensim/corpora/wikicorpus.py\", line 421, in extract_pages\n",
      "    for elem in elems:\n",
      "  File \"/usr/local/lib/python3.6/dist-packages/gensim/corpora/wikicorpus.py\", line 406, in <genexpr>\n",
      "    elems = (elem for _, elem in iterparse(f, events=(\"end\",)))\n",
      "  File \"/usr/lib/python3.6/xml/etree/ElementTree.py\", line 1223, in iterator\n",
      "    data = source.read(16 * 1024)\n",
      "  File \"/usr/lib/python3.6/bz2.py\", line 182, in read\n",
      "    return self._buffer.read(size)\n",
      "  File \"/usr/lib/python3.6/_compression.py\", line 68, in readinto\n",
      "    data = self.read(len(byte_view))\n",
      "  File \"/usr/lib/python3.6/_compression.py\", line 103, in read\n",
      "    data = self._decompressor.decompress(rawblock, size)\n",
      "KeyboardInterrupt\n",
      "\n",
      "During handling of the above exception, another exception occurred:\n",
      "\n",
      "Traceback (most recent call last):\n",
      "  File \"/usr/lib/python3.6/multiprocessing/util.py\", line 322, in _exit_function\n",
      "    _run_finalizers()\n",
      "  File \"/usr/lib/python3.6/multiprocessing/util.py\", line 262, in _run_finalizers\n",
      "    finalizer()\n",
      "  File \"/usr/lib/python3.6/multiprocessing/process.py\", line 261, in _bootstrap\n",
      "    util._exit_function()\n",
      "KeyboardInterrupt\n",
      "  File \"/usr/lib/python3.6/threading.py\", line 1072, in _wait_for_tstate_lock\n",
      "    elif lock.acquire(block, timeout):\n",
      "  File \"/usr/lib/python3.6/threading.py\", line 1056, in join\n",
      "    self._wait_for_tstate_lock()\n",
      "  File \"/usr/lib/python3.6/multiprocessing/util.py\", line 186, in __call__\n",
      "    res = self._callback(*self._args, **self._kwargs)\n",
      "  File \"/usr/lib/python3.6/multiprocessing/queues.py\", line 191, in _finalize_join\n",
      "    thread.join()\n"
     ]
    }
   ],
   "source": [
    "pre = Doc2Vec(min_count=0)\n",
    "pre.scan_vocab(documents)"
   ]
  },
  {
   "cell_type": "code",
   "execution_count": null,
   "id": "473dcb69",
   "metadata": {
    "ExecuteTime": {
     "end_time": "2022-03-15T08:44:05.878023Z",
     "start_time": "2022-03-15T08:44:05.806904Z"
    }
   },
   "outputs": [],
   "source": [
    "for num in range(0, 20):\n",
    "    print('min_count: {}, size of vocab: '.format(num), pre.scale_vocab(min_count=num, dry_run=True)['memory']['vocab']/700)"
   ]
  },
  {
   "cell_type": "code",
   "execution_count": 29,
   "id": "7bc33a53",
   "metadata": {
    "ExecuteTime": {
     "end_time": "2022-03-15T12:37:35.453383Z",
     "start_time": "2022-03-15T12:37:35.441645Z"
    },
    "scrolled": true
   },
   "outputs": [],
   "source": [
    "cores = 8\n",
    "\n",
    "models = [\n",
    "    # PV-DBOW \n",
    "    Doc2Vec(dm=0, dbow_words=1, vector_size=200, window=8, min_count=19, workers=cores),\n",
    "    # PV-DM w/average\n",
    "    Doc2Vec(dm=1, dm_mean=1, vector_size=200, window=8, min_count=19, workers=cores),\n",
    "]"
   ]
  },
  {
   "cell_type": "code",
   "execution_count": null,
   "id": "242536af",
   "metadata": {
    "ExecuteTime": {
     "start_time": "2022-03-15T13:20:12.897Z"
    },
    "scrolled": true
   },
   "outputs": [
    {
     "name": "stdout",
     "output_type": "stream",
     "text": [
      "Doc2Vec(dbow+w,d200,n5,w8,mc19,s0.001,t8)\n"
     ]
    }
   ],
   "source": [
    "models[0].build_vocab(corpus_file=\"./wiki-english-20171001.gz\")\n",
    "print(str(models[0]))\n",
    "models[1].reset_from(models[0])\n",
    "print(str(models[1]))"
   ]
  },
  {
   "cell_type": "code",
   "execution_count": null,
   "id": "e4c3b8dd",
   "metadata": {
    "ExecuteTime": {
     "start_time": "2022-03-15T15:18:17.246Z"
    }
   },
   "outputs": [],
   "source": [
    "for model in models:\n",
    "    model.train(documents, total_examples=model.corpus_count, epochs=10)"
   ]
  },
  {
   "cell_type": "code",
   "execution_count": 36,
   "id": "a224b01b",
   "metadata": {
    "ExecuteTime": {
     "end_time": "2022-03-21T03:05:41.726778Z",
     "start_time": "2022-03-21T03:05:15.029481Z"
    }
   },
   "outputs": [],
   "source": [
    "models[0].save(\"Doc2Vec_enwiki_DBOW_200_8_10.model\")\n",
    "models[1].save(\"Doc2Vec_enwiki_DM_200_8_10.model\")"
   ]
  }
 ],
 "metadata": {
  "kernelspec": {
   "display_name": "Python 3",
   "language": "python",
   "name": "python3"
  },
  "language_info": {
   "codemirror_mode": {
    "name": "ipython",
    "version": 3
   },
   "file_extension": ".py",
   "mimetype": "text/x-python",
   "name": "python",
   "nbconvert_exporter": "python",
   "pygments_lexer": "ipython3",
   "version": "3.6.8"
  }
 },
 "nbformat": 4,
 "nbformat_minor": 5
}
